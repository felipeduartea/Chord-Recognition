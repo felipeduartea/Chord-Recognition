{
  "nbformat": 4,
  "nbformat_minor": 0,
  "metadata": {
    "colab": {
      "provenance": [],
      "toc_visible": true
    },
    "kernelspec": {
      "name": "python3",
      "display_name": "Python 3"
    },
    "language_info": {
      "name": "python"
    }
  },
  "cells": [
    {
      "cell_type": "markdown",
      "source": [
        "## INSTALAÇÕES"
      ],
      "metadata": {
        "id": "MzX2m1DjPZR6"
      }
    },
    {
      "cell_type": "code",
      "source": [
        "pip install mido"
      ],
      "metadata": {
        "id": "lByplsL_Tsl-"
      },
      "execution_count": null,
      "outputs": []
    },
    {
      "cell_type": "code",
      "source": [
        "pip install music21"
      ],
      "metadata": {
        "id": "aMiBh84AQV4I"
      },
      "execution_count": null,
      "outputs": []
    },
    {
      "cell_type": "code",
      "execution_count": null,
      "metadata": {
        "id": "tyvBU5KtJC3K"
      },
      "outputs": [],
      "source": [
        "pip install autochord"
      ]
    },
    {
      "cell_type": "code",
      "source": [
        "pip install pytube"
      ],
      "metadata": {
        "id": "OOWTTWxSJ17r"
      },
      "execution_count": null,
      "outputs": []
    },
    {
      "cell_type": "markdown",
      "source": [
        "## DOWNLOADING SONG"
      ],
      "metadata": {
        "id": "mup9K8a8Pb2N"
      }
    },
    {
      "cell_type": "code",
      "source": [
        "#Importing Pytube library\n",
        "import pytube\n",
        "# Reading the above Taken movie Youtube link\n",
        "video = 'https://www.youtube.com/watch?v=RlPNh_PBZb4'\n",
        "data = pytube.YouTube(video)\n",
        "# Converting and downloading as 'MP4' file\n",
        "audio = data.streams.get_audio_only()\n",
        "song = audio.download()"
      ],
      "metadata": {
        "id": "0VbWnc3iJ0eO"
      },
      "execution_count": 9,
      "outputs": []
    },
    {
      "cell_type": "markdown",
      "source": [
        "## IDENTIFYING THE CHORDS IN THE SONG"
      ],
      "metadata": {
        "id": "U-s9r7xRPfo0"
      }
    },
    {
      "cell_type": "code",
      "source": [
        "import autochord\n",
        "\n",
        "autochord.recognize(song, lab_fn='chords.lab')"
      ],
      "metadata": {
        "colab": {
          "base_uri": "https://localhost:8080/"
        },
        "id": "UdvETHCJJVV6",
        "outputId": "edd4dac1-60c9-4737-f0cd-97146f3af587"
      },
      "execution_count": 10,
      "outputs": [
        {
          "output_type": "stream",
          "name": "stderr",
          "text": [
            "/usr/local/lib/python3.10/dist-packages/autochord/__init__.py:93: UserWarning: PySoundFile failed. Trying audioread instead.\n",
            "  samples, fs = librosa.load(audio_fn, sr=None, mono=True)\n",
            "/usr/local/lib/python3.10/dist-packages/librosa/core/audio.py:183: FutureWarning: librosa.core.audio.__audioread_load\n",
            "\tDeprecated as of librosa version 0.10.0.\n",
            "\tIt will be removed in librosa version 1.0.\n",
            "  y, sr_native = __audioread_load(path, offset, duration, dtype)\n"
          ]
        },
        {
          "output_type": "stream",
          "name": "stdout",
          "text": [
            "1/1 [==============================] - 0s 81ms/step\n"
          ]
        },
        {
          "output_type": "execute_result",
          "data": {
            "text/plain": [
              "[(0.0, 6.965986394557823, 'N'),\n",
              " (6.965986394557823, 9.520181405895691, 'F:maj'),\n",
              " (9.520181405895691, 10.681179138321996, 'N'),\n",
              " (10.681179138321996, 14.303492063492063, 'A:maj'),\n",
              " (14.303492063492063, 17.832925170068027, 'Bb:maj'),\n",
              " (17.832925170068027, 20.24780045351474, 'Bb:min'),\n",
              " (20.24780045351474, 21.36235827664399, 'Bb:maj'),\n",
              " (21.36235827664399, 23.777233560090703, 'F:maj'),\n",
              " (23.777233560090703, 25.031111111111112, 'N'),\n",
              " (25.031111111111112, 28.46766439909297, 'A:maj'),\n",
              " (28.46766439909297, 35.66585034013605, 'Bb:maj'),\n",
              " (35.66585034013605, 37.94140589569161, 'F:maj'),\n",
              " (37.94140589569161, 39.19528344671202, 'N'),\n",
              " (39.19528344671202, 42.956916099773245, 'A:maj'),\n",
              " (42.956916099773245, 49.64426303854875, 'Bb:maj'),\n",
              " (49.64426303854875, 53.498775510204084, 'G:min'),\n",
              " (53.498775510204084, 56.79600907029479, 'C:maj'),\n",
              " (56.79600907029479, 59.44308390022676, 'F:maj'),\n",
              " (59.44308390022676, 60.65052154195011, 'N'),\n",
              " (60.65052154195011, 62.32235827664399, 'A:maj'),\n",
              " (62.32235827664399, 64.13351473922903, 'N'),\n",
              " (64.13351473922903, 67.43074829931973, 'Bb:maj'),\n",
              " (67.43074829931973, 71.3317006802721, 'Bb:min'),\n",
              " (71.3317006802721, 74.86113378684807, 'F:maj'),\n",
              " (74.86113378684807, 77.27600907029479, 'A:maj'),\n",
              " (77.27600907029479, 98.73124716553288, 'N'),\n",
              " (98.73124716553288, 101.05324263038548, 'F:maj'),\n",
              " (101.05324263038548, 102.4928798185941, 'N'),\n",
              " (102.4928798185941, 105.92943310657597, 'A:maj'),\n",
              " (105.92943310657597, 109.41242630385487, 'Bb:maj'),\n",
              " (109.41242630385487, 112.61678004535148, 'Bb:min'),\n",
              " (112.61678004535148, 112.94185941043084, 'N'),\n",
              " (112.94185941043084, 116.42485260770975, 'F:maj'),\n",
              " (116.42485260770975, 120.00072562358277, 'A:maj'),\n",
              " (120.00072562358277, 124.83047619047619, 'Bb:maj'),\n",
              " (124.83047619047619, 126.78095238095239, 'N'),\n",
              " (126.78095238095239, 130.1710657596372, 'G:min'),\n",
              " (130.1710657596372, 133.6540589569161, 'C:maj'),\n",
              " (133.6540589569161, 136.71909297052156, 'F:maj'),\n",
              " (136.71909297052156, 140.75936507936507, 'N'),\n",
              " (140.75936507936507, 145.4033560090703, 'Bb:maj'),\n",
              " (145.4033560090703, 147.58603174603175, 'Bb:min'),\n",
              " (147.58603174603175, 150.23310657596372, 'F:maj'),\n",
              " (150.23310657596372, 151.25478458049886, 'N'),\n",
              " (151.25478458049886, 154.55201814058958, 'A:maj'),\n",
              " (154.55201814058958, 155.34149659863945, 'Bb:maj'),\n",
              " (155.34149659863945, 157.80281179138322, 'Bb:min'),\n",
              " (157.80281179138322, 161.6108843537415, 'N'),\n",
              " (161.6108843537415, 168.48399092970521, 'F:maj'),\n",
              " (168.48399092970521, 171.92054421768708, 'Bb:maj'),\n",
              " (171.92054421768708, 173.59238095238095, 'F:maj'),\n",
              " (173.59238095238095, 175.35709750566895, 'C:maj'),\n",
              " (175.35709750566895, 178.93297052154196, 'Bb:maj'),\n",
              " (178.93297052154196, 180.46548752834468, 'F:maj'),\n",
              " (180.46548752834468, 182.23020408163265, 'C:maj'),\n",
              " (182.23020408163265, 187.38503401360543, 'Bb:maj'),\n",
              " (187.38503401360543, 189.14975056689343, 'C:maj'),\n",
              " (189.14975056689343, 192.63274376417235, 'G:min'),\n",
              " (192.63274376417235, 196.1621768707483, 'C:maj'),\n",
              " (196.1621768707483, 199.59873015873015, 'F:maj'),\n",
              " (199.59873015873015, 203.40680272108844, 'A:maj'),\n",
              " (203.40680272108844, 208.05079365079365, 'Bb:maj'),\n",
              " (208.05079365079365, 209.67619047619047, 'Bb:min'),\n",
              " (209.67619047619047, 213.99510204081633, 'N'),\n",
              " (213.99510204081633, 217.33877551020407, 'A:maj'),\n",
              " (217.33877551020407, 219.93941043083902, 'Bb:maj'),\n",
              " (219.93941043083902, 220.5431292517007, 'F:maj'),\n",
              " (220.5431292517007, 223.09732426303856, 'G:maj'),\n",
              " (223.09732426303856, 234.47510204081632, 'F:maj'),\n",
              " (234.47510204081632, 235.82185941043085, 'G:maj'),\n",
              " (235.82185941043085, 244.4132426303855, 'N')]"
            ]
          },
          "metadata": {},
          "execution_count": 10
        }
      ]
    }
  ]
}